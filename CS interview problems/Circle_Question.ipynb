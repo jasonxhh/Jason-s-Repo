{
 "cells": [
  {
   "cell_type": "markdown",
   "metadata": {
    "deletable": true,
    "editable": true
   },
   "source": [
    "# A group of n people stand in a circle. Here is a function that returns the index of a person (starting from 0), by skipping around the circle by 2.\n",
    "\n",
    "\n",
    "#### Since every index position is unique, I look at it as a unique equivalence class, and thus I can just solve this question by formulating it as a modular equivalence. \n",
    "\n",
    "#### i.e. $$start + 2*steps\\equiv index \\,\\, (mod \\, n) $$\n",
    "\n",
    "#### So I solve the index by reducing mod n"
   ]
  },
  {
   "cell_type": "code",
   "execution_count": null,
   "metadata": {
    "collapsed": true,
    "deletable": true,
    "editable": true
   },
   "outputs": [],
   "source": [
    "def circle_index(number_of_people,number_of_steps,initial_start_index):\n",
    "    return initial_start_index + ((2*number_of_steps) % number_of_people)"
   ]
  },
  {
   "cell_type": "code",
   "execution_count": null,
   "metadata": {
    "collapsed": false,
    "deletable": true,
    "editable": true
   },
   "outputs": [],
   "source": [
    "test = circle_index(5,8,0)\n",
    "print(test)"
   ]
  }
 ],
 "metadata": {
  "kernelspec": {
   "display_name": "Python 3",
   "language": "python",
   "name": "python3"
  },
  "language_info": {
   "codemirror_mode": {
    "name": "ipython",
    "version": 3
   },
   "file_extension": ".py",
   "mimetype": "text/x-python",
   "name": "python",
   "nbconvert_exporter": "python",
   "pygments_lexer": "ipython3",
   "version": "3.5.2"
  }
 },
 "nbformat": 4,
 "nbformat_minor": 1
}
